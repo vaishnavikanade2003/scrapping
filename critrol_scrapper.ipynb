{
 "cells": [
  {
   "cell_type": "code",
   "execution_count": 1,
   "id": "0bfeae6a-90e6-4389-adde-b922ceb1b8b9",
   "metadata": {},
   "outputs": [],
   "source": [
    "import pandas as pd\n",
    "import requests\n",
    "from bs4 import BeautifulSoup"
   ]
  },
  {
   "cell_type": "code",
   "execution_count": 2,
   "id": "fec9a91b-8fba-4bf3-8a64-650fb877c94b",
   "metadata": {},
   "outputs": [],
   "source": [
    "req=requests.get(\"https://shop.critrole.com/collections/all\")"
   ]
  },
  {
   "cell_type": "code",
   "execution_count": 3,
   "id": "470e0dc1-9e50-4e03-a492-dc0ea2d8dafb",
   "metadata": {},
   "outputs": [],
   "source": [
    "soup=BeautifulSoup(req.content,\"html.parser\")"
   ]
  },
  {
   "cell_type": "code",
   "execution_count": 7,
   "id": "670a5601-0fc5-42b7-a11f-2bd2f644776f",
   "metadata": {},
   "outputs": [],
   "source": [
    "result=soup.find(id='shopify-section-template--15434452402266__product-grid')"
   ]
  },
  {
   "cell_type": "code",
   "execution_count": 27,
   "id": "5b180a78-e3ec-4ef2-aea4-545856b2ad2d",
   "metadata": {},
   "outputs": [],
   "source": [
    "price=result.find_all('span',class_='money')\n",
    "review=result.find_all('p',class_='rating-text caption')"
   ]
  },
  {
   "cell_type": "code",
   "execution_count": 28,
   "id": "506caeb9-6d5e-421d-9c82-5dbb1135fa68",
   "metadata": {},
   "outputs": [
    {
     "name": "stdout",
     "output_type": "stream",
     "text": [
      "[<span class=\"money\">$34.99</span>, <span class=\"money\">$24.99</span>, <span class=\"money\">$169.99</span>, <span class=\"money\">$149.99</span>, <span class=\"money\">$149.99</span>, <span class=\"money\">$34.99</span>, <span class=\"money\">$19.99</span>, <span class=\"money\">$64.99</span>, <span class=\"money\">$39.99</span>, <span class=\"money\">$69.99</span>, <span class=\"money\">$24.99</span>, <span class=\"money\">$64.99</span>, <span class=\"money\">$24.99</span>, <span class=\"money\">$28.99</span>, <span class=\"money\">$55.99</span>, <span class=\"money\">$59.99</span>, <span class=\"money\">$64.99</span>, <span class=\"money\">$28.99</span>, <span class=\"money\">$89.99</span>, <span class=\"money\">$28.99</span>, <span class=\"money\">$64.99</span>, <span class=\"money\">$35.99</span>, <span class=\"money\">$19.99</span>, <span class=\"money\">$19.99</span>, <span class=\"money\">$19.99</span>, <span class=\"money\">$13.99</span>, <span class=\"money\">$64.99</span>, <span class=\"money\">$9.99</span>, <span class=\"money\">$59.99</span>, <span class=\"money\">$35.99</span>, <span class=\"money\">$28.99</span>, <span class=\"money\">$84.99</span>, <span class=\"money\">$64.99</span>, <span class=\"money\">$39.99</span>, <span class=\"money\">$59.99</span>, <span class=\"money\">$28.99</span>, <span class=\"money\">$14.99</span>, <span class=\"money\">$49.99</span>, <span class=\"money\">$28.99</span>, <span class=\"money\">$16.99</span>, <span class=\"money\">$16.99</span>, <span class=\"money\">$16.99</span>, <span class=\"money\">$59.99</span>, <span class=\"money\">$35.99</span>, <span class=\"money\">$59.99</span>, <span class=\"money\">$28.99</span>, <span class=\"money\">$9.99</span>, <span class=\"money\">$9.99</span>]\n"
     ]
    }
   ],
   "source": [
    "print(price)"
   ]
  },
  {
   "cell_type": "code",
   "execution_count": 29,
   "id": "07e55932-3092-471a-9e83-23a8a0a0157c",
   "metadata": {},
   "outputs": [],
   "source": [
    "df1=[]\n",
    "for n in price:\n",
    "    df1.append(n.text)"
   ]
  },
  {
   "cell_type": "code",
   "execution_count": 34,
   "id": "a8340859-1828-41fa-866a-469691cfb480",
   "metadata": {},
   "outputs": [
    {
     "data": {
      "text/plain": [
       "['$34.99',\n",
       " '$24.99',\n",
       " '$169.99',\n",
       " '$149.99',\n",
       " '$149.99',\n",
       " '$34.99',\n",
       " '$19.99',\n",
       " '$64.99',\n",
       " '$39.99',\n",
       " '$69.99',\n",
       " '$24.99',\n",
       " '$64.99',\n",
       " '$24.99',\n",
       " '$28.99',\n",
       " '$55.99',\n",
       " '$59.99',\n",
       " '$64.99',\n",
       " '$28.99',\n",
       " '$89.99',\n",
       " '$28.99',\n",
       " '$64.99',\n",
       " '$35.99',\n",
       " '$19.99',\n",
       " '$19.99',\n",
       " '$19.99',\n",
       " '$13.99',\n",
       " '$64.99',\n",
       " '$9.99',\n",
       " '$59.99',\n",
       " '$35.99',\n",
       " '$28.99',\n",
       " '$84.99',\n",
       " '$64.99',\n",
       " '$39.99',\n",
       " '$59.99',\n",
       " '$28.99',\n",
       " '$14.99',\n",
       " '$49.99',\n",
       " '$28.99',\n",
       " '$16.99',\n",
       " '$16.99',\n",
       " '$16.99',\n",
       " '$59.99',\n",
       " '$35.99',\n",
       " '$59.99',\n",
       " '$28.99',\n",
       " '$9.99',\n",
       " '$9.99']"
      ]
     },
     "execution_count": 34,
     "metadata": {},
     "output_type": "execute_result"
    }
   ],
   "source": [
    "df1"
   ]
  },
  {
   "cell_type": "code",
   "execution_count": 37,
   "id": "0c3721cb-4ece-4db5-a993-8f587e26ab6d",
   "metadata": {},
   "outputs": [],
   "source": [
    "df2 = []\n",
    "for r in review:\n",
    "    df2.append(r.text)\n"
   ]
  },
  {
   "cell_type": "code",
   "execution_count": 38,
   "id": "d4fe54b2-9dca-4c80-b7bc-6dd09cdc5ab2",
   "metadata": {},
   "outputs": [
    {
     "data": {
      "text/plain": [
       "['\\n4.85 / 5.0\\n',\n",
       " '\\n5.0 / 5.0\\n',\n",
       " '\\n4.89 / 5.0\\n',\n",
       " '\\n4.88 / 5.0\\n',\n",
       " '\\n5.0 / 5.0\\n',\n",
       " '\\n5.0 / 5.0\\n',\n",
       " '\\n4.89 / 5.0\\n',\n",
       " '\\n4.97 / 5.0\\n',\n",
       " '\\n4.86 / 5.0\\n',\n",
       " '\\n4.98 / 5.0\\n',\n",
       " '\\n4.92 / 5.0\\n',\n",
       " '\\n4.69 / 5.0\\n',\n",
       " '\\n5.0 / 5.0\\n',\n",
       " '\\n4.76 / 5.0\\n',\n",
       " '\\n5.0 / 5.0\\n',\n",
       " '\\n4.93 / 5.0\\n',\n",
       " '\\n4.93 / 5.0\\n',\n",
       " '\\n4.2 / 5.0\\n',\n",
       " '\\n4.86 / 5.0\\n',\n",
       " '\\n4.96 / 5.0\\n',\n",
       " '\\n4.78 / 5.0\\n',\n",
       " '\\n4.92 / 5.0\\n',\n",
       " '\\n4.59 / 5.0\\n',\n",
       " '\\n4.9 / 5.0\\n',\n",
       " '\\n4.82 / 5.0\\n',\n",
       " '\\n4.92 / 5.0\\n',\n",
       " '\\n4.87 / 5.0\\n',\n",
       " '\\n4.94 / 5.0\\n',\n",
       " '\\n4.92 / 5.0\\n',\n",
       " '\\n4.92 / 5.0\\n',\n",
       " '\\n3.0 / 5.0\\n',\n",
       " '\\n4.88 / 5.0\\n',\n",
       " '\\n5.0 / 5.0\\n',\n",
       " '\\n4.79 / 5.0\\n',\n",
       " '\\n5.0 / 5.0\\n',\n",
       " '\\n5.0 / 5.0\\n',\n",
       " '\\n5.0 / 5.0\\n',\n",
       " '\\n4.93 / 5.0\\n',\n",
       " '\\n4.85 / 5.0\\n',\n",
       " '\\n4.88 / 5.0\\n',\n",
       " '\\n4.0 / 5.0\\n',\n",
       " '\\n5.0 / 5.0\\n',\n",
       " '\\n5.0 / 5.0\\n']"
      ]
     },
     "execution_count": 38,
     "metadata": {},
     "output_type": "execute_result"
    }
   ],
   "source": [
    "df2"
   ]
  },
  {
   "cell_type": "code",
   "execution_count": 40,
   "id": "78f89002-23a4-49dc-9721-0677681980d3",
   "metadata": {},
   "outputs": [],
   "source": [
    "df=pd.DataFrame({\"Price\": df1})"
   ]
  },
  {
   "cell_type": "code",
   "execution_count": 36,
   "id": "7d839558-b6f4-41fa-a0d9-df657c8ddd85",
   "metadata": {},
   "outputs": [],
   "source": [
    "df.to_csv(\"critrol.csv\")"
   ]
  },
  {
   "cell_type": "code",
   "execution_count": 41,
   "id": "785ee6a6-6e89-45cd-b672-1d4ff53f78de",
   "metadata": {},
   "outputs": [],
   "source": [
    "title=result.find_all('h3',class_='product-card__title f-family--body f-caps--true f-space--1')\n"
   ]
  },
  {
   "cell_type": "code",
   "execution_count": 42,
   "id": "71efb50a-1932-4d7f-9387-fbdedd757231",
   "metadata": {},
   "outputs": [
    {
     "data": {
      "text/plain": [
       "[<h3 class=\"product-card__title f-family--body f-caps--true f-space--1\"><product-card-title>Bells Hells Weapons Button Down Short Sleeve Shirt</product-card-title></h3>,\n",
       " <h3 class=\"product-card__title f-family--body f-caps--true f-space--1\"><product-card-title>For the Queen</product-card-title></h3>,\n",
       " <h3 class=\"product-card__title f-family--body f-caps--true f-space--1\"><product-card-title>[PRE-ORDER] Vox Machina Origins - Grog Strongjaw, Pike Trickfoot, and Scanlan Shorthalt Bust</product-card-title></h3>,\n",
       " <h3 class=\"product-card__title f-family--body f-caps--true f-space--1\"><product-card-title>[PRE-ORDER] Vox Machina Origins - Keyleth and Percival Fredrickstein von Musel Klossowski de Rolo III Bust</product-card-title></h3>,\n",
       " <h3 class=\"product-card__title f-family--body f-caps--true f-space--1\"><product-card-title>Vox Machina Origins - Vex'ahlia and Vax'ildan Bust</product-card-title></h3>,\n",
       " <h3 class=\"product-card__title f-family--body f-caps--true f-space--1\"><product-card-title>Bells Hells Collection: Dorian Storm Camp Shirt</product-card-title></h3>,\n",
       " <h3 class=\"product-card__title f-family--body f-caps--true f-space--1\"><product-card-title>Bells Hells Dice Set: Dorian Storm</product-card-title></h3>,\n",
       " <h3 class=\"product-card__title f-family--body f-caps--true f-space--1\"><product-card-title>Mighty Nein Hoodie</product-card-title></h3>,\n",
       " <h3 class=\"product-card__title f-family--body f-caps--true f-space--1\"><product-card-title>Bells Hells Lightweight Hoodie</product-card-title></h3>,\n",
       " <h3 class=\"product-card__title f-family--body f-caps--true f-space--1\"><product-card-title>Candela Obscura Premium Dice Set</product-card-title></h3>,\n",
       " <h3 class=\"product-card__title f-family--body f-caps--true f-space--1\"><product-card-title>Candela Obscura Collapsible Dice Tray</product-card-title></h3>,\n",
       " <h3 class=\"product-card__title f-family--body f-caps--true f-space--1\"><product-card-title>Candela Obscura Beyond the Grave Hoodie</product-card-title></h3>,\n",
       " <h3 class=\"product-card__title f-family--body f-caps--true f-space--1\"><product-card-title>Critical Role Dad Hat</product-card-title></h3>,\n",
       " <h3 class=\"product-card__title f-family--body f-caps--true f-space--1\"><product-card-title>Fearne Calloway Art Nouveau T-Shirt</product-card-title></h3>,\n",
       " <h3 class=\"product-card__title f-family--body f-caps--true f-space--1\"><product-card-title>Bells Hells Collection: Fearne Calloway Duster Kimono</product-card-title></h3>,\n",
       " <h3 class=\"product-card__title f-family--body f-caps--true f-space--1\"><product-card-title>You Can Certainly Try Pullover Hoodie</product-card-title></h3>,\n",
       " <h3 class=\"product-card__title f-family--body f-caps--true f-space--1\"><product-card-title>Luxon Beacon Oversized d20</product-card-title></h3>,\n",
       " <h3 class=\"product-card__title f-family--body f-caps--true f-space--1\"><product-card-title>Chetney Pock O'Pea Woodworks T-Shirt</product-card-title></h3>,\n",
       " <h3 class=\"product-card__title f-family--body f-caps--true f-space--1\"><product-card-title>Bells Hells Collection: Orym of the Air Ashari Bomber Jacket</product-card-title></h3>,\n",
       " <h3 class=\"product-card__title f-family--body f-caps--true f-space--1\"><product-card-title>Candela Obscura Blueprint T-Shirt</product-card-title></h3>,\n",
       " <h3 class=\"product-card__title f-family--body f-caps--true f-space--1\"><product-card-title>Bells Hells Collection: Chetney Pock O'Pea Pullover Knit Hoodie</product-card-title></h3>,\n",
       " <h3 class=\"product-card__title f-family--body f-caps--true f-space--1\"><product-card-title>Bailey's Green Dice Bag of Hoarding</product-card-title></h3>,\n",
       " <h3 class=\"product-card__title f-family--body f-caps--true f-space--1\"><product-card-title>Candela Obscura Core Rulebook (PDF)</product-card-title></h3>,\n",
       " <h3 class=\"product-card__title f-family--body f-caps--true f-space--1\"><product-card-title>Bells Hells Dice Set: Orym, Of The Air Ashari</product-card-title></h3>,\n",
       " <h3 class=\"product-card__title f-family--body f-caps--true f-space--1\"><product-card-title>Bells Hells Dice Set: Imogen Temult</product-card-title></h3>,\n",
       " <h3 class=\"product-card__title f-family--body f-caps--true f-space--1\"><product-card-title>Bells Hells Collection: Ashton Greymoore Embroidered Patches</product-card-title></h3>,\n",
       " <h3 class=\"product-card__title f-family--body f-caps--true f-space--1\"><product-card-title>Bells Hells Collection: Ashton Greymoore Jacket</product-card-title></h3>,\n",
       " <h3 class=\"product-card__title f-family--body f-caps--true f-space--1\"><product-card-title>Bells Hells Retro Crew Socks 2-Pack</product-card-title></h3>,\n",
       " <h3 class=\"product-card__title f-family--body f-caps--true f-space--1\"><product-card-title>Critical Role Ultra Soft Forest Green Pajama Lounge Set</product-card-title></h3>,\n",
       " <h3 class=\"product-card__title f-family--body f-caps--true f-space--1\"><product-card-title>Jrusar Joggers</product-card-title></h3>,\n",
       " <h3 class=\"product-card__title f-family--body f-caps--true f-space--1\"><product-card-title>Mighty Nein Echoes of the Solstice T-Shirt</product-card-title></h3>,\n",
       " <h3 class=\"product-card__title f-family--body f-caps--true f-space--1\"><product-card-title>Ruidus Dice Set</product-card-title></h3>,\n",
       " <h3 class=\"product-card__title f-family--body f-caps--true f-space--1\"><product-card-title>Bells Hells Collection: Fresh Cut Grass Cardigan</product-card-title></h3>,\n",
       " <h3 class=\"product-card__title f-family--body f-caps--true f-space--1\"><product-card-title>Candela Obscura Core Rulebook</product-card-title></h3>,\n",
       " <h3 class=\"product-card__title f-family--body f-caps--true f-space--1\"><product-card-title>Laudna Character Hoodie</product-card-title></h3>,\n",
       " <h3 class=\"product-card__title f-family--body f-caps--true f-space--1\"><product-card-title>Welcome to Ligament Manor T-Shirt</product-card-title></h3>,\n",
       " <h3 class=\"product-card__title f-family--body f-caps--true f-space--1\"><product-card-title>Caper Cards: Bells Hells</product-card-title></h3>,\n",
       " <h3 class=\"product-card__title f-family--body f-caps--true f-space--1\"><product-card-title>Critical Role: The Mighty Nein Origins Library Edition Volume 1</product-card-title></h3>,\n",
       " <h3 class=\"product-card__title f-family--body f-caps--true f-space--1\"><product-card-title>Imogen Temult T-Shirt</product-card-title></h3>,\n",
       " <h3 class=\"product-card__title f-family--body f-caps--true f-space--1\"><product-card-title>Critical Role: Bells Hells - Ashton Greymoore Phunny Plush by Kidrobot</product-card-title></h3>,\n",
       " <h3 class=\"product-card__title f-family--body f-caps--true f-space--1\"><product-card-title>Critical Role: Bells Hells - Fearne Calloway Phunny Plush by Kidrobot</product-card-title></h3>,\n",
       " <h3 class=\"product-card__title f-family--body f-caps--true f-space--1\"><product-card-title>Critical Role: Bells Hells - Fresh Cut Grass Phunny Plush by Kidrobot</product-card-title></h3>,\n",
       " <h3 class=\"product-card__title f-family--body f-caps--true f-space--1\"><product-card-title>The Chronicles of Exandria Vol II: The Legend of Vox Machina</product-card-title></h3>,\n",
       " <h3 class=\"product-card__title f-family--body f-caps--true f-space--1\"><product-card-title>Critical Role Retro Jogger</product-card-title></h3>,\n",
       " <h3 class=\"product-card__title f-family--body f-caps--true f-space--1\"><product-card-title>Critical Role Retro Hoodie</product-card-title></h3>,\n",
       " <h3 class=\"product-card__title f-family--body f-caps--true f-space--1\"><product-card-title>Is It Thursday Yet T-Shirt</product-card-title></h3>,\n",
       " <h3 class=\"product-card__title f-family--body f-caps--true f-space--1\"><product-card-title>Tankard Wrap: The Adventure Begins</product-card-title></h3>,\n",
       " <h3 class=\"product-card__title f-family--body f-caps--true f-space--1\"><product-card-title>Tankard Wrap: What the F is Up with That?</product-card-title></h3>]"
      ]
     },
     "execution_count": 42,
     "metadata": {},
     "output_type": "execute_result"
    }
   ],
   "source": [
    "title"
   ]
  },
  {
   "cell_type": "code",
   "execution_count": 43,
   "id": "d8d9eda9-e940-40f5-ae2c-3a1a24b4806f",
   "metadata": {},
   "outputs": [],
   "source": [
    "df3=[]\n",
    "for t in title:\n",
    "    df3.append(t.text)"
   ]
  },
  {
   "cell_type": "code",
   "execution_count": 44,
   "id": "5eda7605-8d31-48f9-8b36-a6c0c5a383cf",
   "metadata": {},
   "outputs": [
    {
     "data": {
      "text/plain": [
       "['Bells Hells Weapons Button Down Short Sleeve Shirt',\n",
       " 'For the Queen',\n",
       " '[PRE-ORDER] Vox Machina Origins - Grog Strongjaw, Pike Trickfoot, and Scanlan Shorthalt Bust',\n",
       " '[PRE-ORDER] Vox Machina Origins - Keyleth and Percival Fredrickstein von Musel Klossowski de Rolo III Bust',\n",
       " \"Vox Machina Origins - Vex'ahlia and Vax'ildan Bust\",\n",
       " 'Bells Hells Collection: Dorian Storm Camp Shirt',\n",
       " 'Bells Hells Dice Set: Dorian Storm',\n",
       " 'Mighty Nein Hoodie',\n",
       " 'Bells Hells Lightweight Hoodie',\n",
       " 'Candela Obscura Premium Dice Set',\n",
       " 'Candela Obscura Collapsible Dice Tray',\n",
       " 'Candela Obscura Beyond the Grave Hoodie',\n",
       " 'Critical Role Dad Hat',\n",
       " 'Fearne Calloway Art Nouveau T-Shirt',\n",
       " 'Bells Hells Collection: Fearne Calloway Duster Kimono',\n",
       " 'You Can Certainly Try Pullover Hoodie',\n",
       " 'Luxon Beacon Oversized d20',\n",
       " \"Chetney Pock O'Pea Woodworks T-Shirt\",\n",
       " 'Bells Hells Collection: Orym of the Air Ashari Bomber Jacket',\n",
       " 'Candela Obscura Blueprint T-Shirt',\n",
       " \"Bells Hells Collection: Chetney Pock O'Pea Pullover Knit Hoodie\",\n",
       " \"Bailey's Green Dice Bag of Hoarding\",\n",
       " 'Candela Obscura Core Rulebook (PDF)',\n",
       " 'Bells Hells Dice Set: Orym, Of The Air Ashari',\n",
       " 'Bells Hells Dice Set: Imogen Temult',\n",
       " 'Bells Hells Collection: Ashton Greymoore Embroidered Patches',\n",
       " 'Bells Hells Collection: Ashton Greymoore Jacket',\n",
       " 'Bells Hells Retro Crew Socks 2-Pack',\n",
       " 'Critical Role Ultra Soft Forest Green Pajama Lounge Set',\n",
       " 'Jrusar Joggers',\n",
       " 'Mighty Nein Echoes of the Solstice T-Shirt',\n",
       " 'Ruidus Dice Set',\n",
       " 'Bells Hells Collection: Fresh Cut Grass Cardigan',\n",
       " 'Candela Obscura Core Rulebook',\n",
       " 'Laudna Character Hoodie',\n",
       " 'Welcome to Ligament Manor T-Shirt',\n",
       " 'Caper Cards: Bells Hells',\n",
       " 'Critical Role: The Mighty Nein Origins Library Edition Volume 1',\n",
       " 'Imogen Temult T-Shirt',\n",
       " 'Critical Role: Bells Hells - Ashton Greymoore Phunny Plush by Kidrobot',\n",
       " 'Critical Role: Bells Hells - Fearne Calloway Phunny Plush by Kidrobot',\n",
       " 'Critical Role: Bells Hells - Fresh Cut Grass Phunny Plush by Kidrobot',\n",
       " 'The Chronicles of Exandria Vol II: The Legend of Vox Machina',\n",
       " 'Critical Role Retro Jogger',\n",
       " 'Critical Role Retro Hoodie',\n",
       " 'Is It Thursday Yet T-Shirt',\n",
       " 'Tankard Wrap: The Adventure Begins',\n",
       " 'Tankard Wrap: What the F is Up with That?']"
      ]
     },
     "execution_count": 44,
     "metadata": {},
     "output_type": "execute_result"
    }
   ],
   "source": [
    "df3"
   ]
  },
  {
   "cell_type": "code",
   "execution_count": 46,
   "id": "5da41548-b6ad-4503-8fe6-40acd5a02003",
   "metadata": {},
   "outputs": [],
   "source": [
    "dfm=pd.DataFrame({\"Ttile\":df3, \"Price\":df1})"
   ]
  },
  {
   "cell_type": "code",
   "execution_count": 48,
   "id": "800f240d-418a-46b9-8b86-289d710e9d62",
   "metadata": {},
   "outputs": [],
   "source": [
    "dfm.to_csv(\"critrolm.csv\")"
   ]
  },
  {
   "cell_type": "code",
   "execution_count": null,
   "id": "0ce260d9-c6eb-4367-9e13-61374a9fcbe1",
   "metadata": {},
   "outputs": [],
   "source": []
  }
 ],
 "metadata": {
  "kernelspec": {
   "display_name": "Python 3 (ipykernel)",
   "language": "python",
   "name": "python3"
  },
  "language_info": {
   "codemirror_mode": {
    "name": "ipython",
    "version": 3
   },
   "file_extension": ".py",
   "mimetype": "text/x-python",
   "name": "python",
   "nbconvert_exporter": "python",
   "pygments_lexer": "ipython3",
   "version": "3.11.3"
  }
 },
 "nbformat": 4,
 "nbformat_minor": 5
}
